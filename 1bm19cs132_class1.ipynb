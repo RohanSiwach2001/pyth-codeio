{
  "nbformat": 4,
  "nbformat_minor": 0,
  "metadata": {
    "colab": {
      "name": "1bm19cs132_class1.ipynb",
      "provenance": [],
      "collapsed_sections": [],
      "authorship_tag": "ABX9TyPQAMv8t+UXc/No0xPMeaHk",
      "include_colab_link": true
    },
    "kernelspec": {
      "name": "python3",
      "display_name": "Python 3"
    },
    "language_info": {
      "name": "python"
    }
  },
  "cells": [
    {
      "cell_type": "markdown",
      "metadata": {
        "id": "view-in-github",
        "colab_type": "text"
      },
      "source": [
        "<a href=\"https://colab.research.google.com/github/RohanSiwach2001/pyth-codeio/blob/main/1bm19cs132_class1.ipynb\" target=\"_parent\"><img src=\"https://colab.research.google.com/assets/colab-badge.svg\" alt=\"Open In Colab\"/></a>"
      ]
    },
    {
      "cell_type": "code",
      "metadata": {
        "colab": {
          "base_uri": "https://localhost:8080/"
        },
        "id": "agnXzWMO4gxg",
        "outputId": "3ca9d635-c271-4917-e828-cd588ebdc9da"
      },
      "source": [
        "a=3\n",
        "b=2\n",
        "\n",
        "print(a+b)\n",
        "print(a-b)\n",
        "print(a*b)\n",
        "print(a/b)\n",
        "print(a%b)\n",
        "print(a**((a**b)*b))"
      ],
      "execution_count": null,
      "outputs": [
        {
          "output_type": "stream",
          "text": [
            "5\n",
            "1\n",
            "6\n",
            "1.5\n",
            "1\n",
            "387420489\n"
          ],
          "name": "stdout"
        }
      ]
    },
    {
      "cell_type": "code",
      "metadata": {
        "colab": {
          "base_uri": "https://localhost:8080/"
        },
        "id": "0b9LB0yl8fVo",
        "outputId": "8df3189d-9a66-4880-b9f1-8751e61b368c"
      },
      "source": [
        "a=input(\"enter the string\")\n",
        "b=input(\"enter the number\")\n",
        "c=str(a) + \" \" + b\n",
        "print(c)"
      ],
      "execution_count": null,
      "outputs": [
        {
          "output_type": "stream",
          "text": [
            "enter the stringrr\n",
            "enter the number1\n",
            "rr 1\n"
          ],
          "name": "stdout"
        }
      ]
    },
    {
      "cell_type": "code",
      "metadata": {
        "colab": {
          "base_uri": "https://localhost:8080/"
        },
        "id": "yDoUji678Ss6",
        "outputId": "8b35e781-bf50-44f4-a8c6-04474aacbb3f"
      },
      "source": [
        "a=30\n",
        "b=20\n",
        "d=a*b\n",
        "print(type(d))\n",
        "print(d)"
      ],
      "execution_count": null,
      "outputs": [
        {
          "output_type": "stream",
          "text": [
            "<class 'int'>\n",
            "600\n"
          ],
          "name": "stdout"
        }
      ]
    },
    {
      "cell_type": "code",
      "metadata": {
        "colab": {
          "base_uri": "https://localhost:8080/"
        },
        "id": "7QfiuYDe9m5a",
        "outputId": "a86a84d4-cafb-4e3b-800b-47e5132dc2c5"
      },
      "source": [
        "a=input(\"enter str1\")\n",
        "b=input(\"enter str2\")\n",
        "c=a+\" \"+b\n",
        "print(c)\n",
        "print(a,b)"
      ],
      "execution_count": null,
      "outputs": [
        {
          "output_type": "stream",
          "text": [
            "enter str1rr\n",
            "enter str2tt\n",
            "rr tt\n",
            "rr tt\n"
          ],
          "name": "stdout"
        }
      ]
    },
    {
      "cell_type": "code",
      "metadata": {
        "colab": {
          "base_uri": "https://localhost:8080/"
        },
        "id": "lUdR55wQ_e06",
        "outputId": "eef29b43-2262-450b-a147-a67758773364"
      },
      "source": [
        "a=input(\"enter str\")\n",
        "b=input(\"enter int\")\n",
        "d=a+ \" \"+str(b)\n",
        "print(d)"
      ],
      "execution_count": null,
      "outputs": [
        {
          "output_type": "stream",
          "text": [
            "enter strrr\n",
            "enter int33\n",
            "rr 33\n"
          ],
          "name": "stdout"
        }
      ]
    },
    {
      "cell_type": "code",
      "metadata": {
        "id": "Xoe3HL28_4qI"
      },
      "source": [
        ""
      ],
      "execution_count": null,
      "outputs": []
    }
  ]
}